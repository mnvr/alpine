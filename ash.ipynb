{
 "cells": [
  {
   "cell_type": "markdown",
   "id": "2b0edbcb",
   "metadata": {},
   "source": [
    "# ash\n",
    "\n",
    "ash is the default alpine shell. It is a symlink to the busybox dash."
   ]
  },
  {
   "cell_type": "code",
   "execution_count": 5,
   "id": "0cb608cb",
   "metadata": {},
   "outputs": [
    {
     "name": "stdout",
     "output_type": "stream",
     "text": [
      "lrwxrwxrwx    1 root     root          12 May 17 16:56 \u001b[1;36m/bin/ash\u001b[m -> \u001b[1;32m/bin/busybox\u001b[m\n",
      "lrwxrwxrwx    1 root     root          12 May 17 16:56 \u001b[1;36m/bin/sh\u001b[m -> \u001b[1;32m/bin/busybox\u001b[m\n"
     ]
    }
   ],
   "source": [
    "ls -lh `which ash` `which sh`"
   ]
  },
  {
   "cell_type": "markdown",
   "id": "8adf62df",
   "metadata": {},
   "source": [
    "> #### Pedigree\n",
    ">\n",
    "> ash (almquist shell) came around the time of bash. In 90s it was posted to debian as dash, from which the shell in busybox ([`ash.c`](https://git.busybox.net/busybox/tree/shell)) was forked."
   ]
  }
 ],
 "metadata": {
  "kernelspec": {
   "display_name": "Bash",
   "language": "bash",
   "name": "bash"
  },
  "language_info": {
   "codemirror_mode": "shell",
   "file_extension": ".sh",
   "mimetype": "text/x-sh",
   "name": "bash"
  }
 },
 "nbformat": 4,
 "nbformat_minor": 5
}

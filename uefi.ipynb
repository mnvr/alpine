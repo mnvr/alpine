{
 "cells": [
  {
   "cell_type": "markdown",
   "id": "a8826f34",
   "metadata": {},
   "source": [
    "# UEFI\n",
    "\n",
    "When a computer boots up, what does it do?\n",
    "\n",
    "It thinks for a long time about the meaning of it all. This takes a very long time, but since it is very fast, we never notice it.\n",
    "\n",
    "After it is done thinking and yet again doesn't arrive at a satisfiable proposition (remember, from its perspective, it is happening the first time), it busies itself, and runs \"UEFI\" code present on the firmware.\n",
    "\n",
    "UEFI is a standard, but the implementations are many and proprietary for the manufacturer of the motherboard. There is a reference implementation (which is also open source) called TianoCore EDK 2 (which can be used by qemu).\n",
    "\n",
    "UEFI looks (or, to be more precise, the UEFI standard asks the implementation to go and look) for a ESP - EFI system partition. This is a small FAT partition that contains the bootloaders for one or more OSes. Depending on the user's choice, it loads one of them.\n",
    "\n",
    "The user's choice and other settings can be persisted into NVRAM (non-volatile storage). How these \"UEFI vars\" are saved is up to the implementation (e.g. qemu can save them to a JSON file by using `-device uefi-vars-sysbus,jsonfile=uefi.json`). The OS can also access these, e.g. using the `efivars` utility (which delegates to `/sys/firmware/efi/efivars/`)."
   ]
  }
 ],
 "metadata": {
  "kernelspec": {
   "display_name": "Bash",
   "language": "bash",
   "name": "bash"
  },
  "language_info": {
   "codemirror_mode": "shell",
   "file_extension": ".sh",
   "mimetype": "text/x-sh",
   "name": "bash"
  }
 },
 "nbformat": 4,
 "nbformat_minor": 5
}

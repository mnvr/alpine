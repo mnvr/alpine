{
 "cells": [
  {
   "cell_type": "markdown",
   "id": "95e65f32",
   "metadata": {},
   "source": [
    "# History\n",
    "\n",
    "Started circa 1997, as the LRP (\"Linux Router Project\"). Meant to be a fast minimal functional linux for routers. Over time routers part became less relevant, but the minimal functionalism remained.\n",
    "\n",
    "Then came docker, and people realized that Alpine (what it had come to be called by now) was the perfect fit.\n",
    "\n",
    "2025, I connected the dots together: Alpine was the BSD I need."
   ]
  }
 ],
 "metadata": {
  "kernelspec": {
   "display_name": "Bash",
   "language": "bash",
   "name": "bash"
  },
  "language_info": {
   "codemirror_mode": "shell",
   "file_extension": ".sh",
   "mimetype": "text/x-sh",
   "name": "bash"
  }
 },
 "nbformat": 4,
 "nbformat_minor": 5
}

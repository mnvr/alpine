{
 "cells": [
  {
   "cell_type": "markdown",
   "id": "36e5a64a",
   "metadata": {},
   "source": [
    "# xfconf\n",
    "\n",
    "Xfce configuration subsystem."
   ]
  },
  {
   "cell_type": "code",
   "execution_count": 3,
   "id": "49ab81ed",
   "metadata": {},
   "outputs": [
    {
     "name": "stdout",
     "output_type": "stream",
     "text": [
      "startxfce4                     xfce4-about                   \n",
      "xfce4-accessibility-settings   xfce4-appearance-settings     \n",
      "xfce4-appfinder                xfce4-display-settings        \n",
      "xfce4-find-cursor              xfce4-keyboard-settings       \n",
      "xfce4-mime-helper              xfce4-mime-settings           \n",
      "xfce4-mouse-settings           xfce4-panel                   \n",
      "xfce4-popup-applicationsmenu   xfce4-popup-directorymenu     \n",
      "xfce4-popup-windowmenu         xfce4-power-manager           \n",
      "xfce4-power-manager-settings   xfce4-screensaver             \n",
      "xfce4-screensaver-command      xfce4-screensaver-configure.py\n",
      "xfce4-screensaver-preferences  xfce4-session                 \n",
      "xfce4-session-logout           xfce4-session-settings        \n",
      "xfce4-settings-editor          xfce4-settings-manager        \n",
      "xfce4-terminal                 xfce4-wayland                 \n",
      "xfconf-query                   xfdesktop                     \n",
      "xfdesktop-settings             xflock4                       \n",
      "xfrun4                         xfsettingsd                   \n",
      "xfwm4                          xfwm4-settings                \n",
      "xfwm4-tweaks-settings          xfwm4-workspace-settings      \n"
     ]
    }
   ],
   "source": [
    "ls /usr/bin | grep xf | paste - - | while read a b; do printf \"%-30s %-30s\\n\" $a $b; done"
   ]
  },
  {
   "cell_type": "markdown",
   "id": "b9789039",
   "metadata": {},
   "source": [
    "Individual Xfce components have their own settings app (e.g. `xfdesktop-settings`, `xfce4-session-settings`), `xfwm4` has multiple, and there are freestanding settings too that affect multiple components (`xfce4-keyboard-settings`).\n",
    "\n",
    "There are 4 programs that deal with settings themselves:\n",
    "\n",
    "* `xf-settings-manager` - The \"Settings\" meta app, that shows the settings \"dialogs\" for all Xfce components present on the system.\n",
    "* `xf-settings-editor` - A rawer program to directly edit the key values.\n",
    "* `xfsettingsd` - A background daemon that applies settings updates.\n",
    "\n",
    "These three form the xfce4-settings component (https://docs.xfce.org/xfce/xfce4-settings/start):\n",
    "\n",
    "> The xfce4-settings component provides a daemon, manager, and editor to centralize the configuration management of the Xfce system.\n",
    "\n",
    "That leaves the last thing on the list, and the topic of our perusal here - `xfconf-query`\n",
    "\n",
    "## xfconf\n",
    "\n",
    "It feels weird to have a H1 and H2 with the same value.\n",
    "\n",
    "Xfconf is a \"simple client-server configuration storage and query system\" (https://www.xfce.org/projects).\n",
    "\n",
    "https://docs.xfce.org/xfce/xfconf/start has more to say:\n",
    "\n",
    "> Xfconf is a hierarchical (tree-like) configuration system where the immediate child nodes of the root are called \"channels\". All settings beneath the channel nodes are called \"properties\".\n",
    ">\n",
    "> Property names are referenced by their \"full path\" underneath the channel. Everything is case-insensitive. Example:\n",
    ">\n",
    "> * Channel: ExampleApp, Property: /main/history-window/last-accessed\n",
    ">\n",
    "> Settings stored in Xfconf can be accessed via\n",
    ">\n",
    "> - Configuration dialogs within Settings manager.\n",
    "> - Settings editor\n",
    "> - Using `xfconf-query`\n",
    "> - Manually. Xfconf stores all its data in XML files which can be edited when Xfconf is not running."
   ]
  },
  {
   "cell_type": "markdown",
   "id": "09818843",
   "metadata": {},
   "source": [
    "## `xfconf-query`"
   ]
  },
  {
   "cell_type": "code",
   "execution_count": 4,
   "id": "da7e1338",
   "metadata": {},
   "outputs": [
    {
     "name": "stdout",
     "output_type": "stream",
     "text": [
      "Channels:\n",
      "  displays\n",
      "  keyboard-layout\n",
      "  keyboards\n",
      "  thunar\n",
      "  xfce4-appfinder\n",
      "  xfce4-desktop\n",
      "  xfce4-keyboard-shortcuts\n",
      "  xfce4-panel\n",
      "  xfce4-power-manager\n",
      "  xfce4-screensaver\n",
      "  xfce4-session\n",
      "  xfce4-settings-editor\n",
      "  xfce4-settings-manager\n",
      "  xfce4-terminal\n",
      "  xfwm4\n",
      "  xsettings\n"
     ]
    }
   ],
   "source": [
    "xfconf-query --list"
   ]
  },
  {
   "cell_type": "code",
   "execution_count": 13,
   "id": "a6780978",
   "metadata": {},
   "outputs": [
    {
     "name": "stdout",
     "output_type": "stream",
     "text": [
      "/lock/enabled\n",
      "/saver/mode\n",
      "/saver/themes/list\n"
     ]
    }
   ],
   "source": [
    "xfconf-query -c xfce4-screensaver --list"
   ]
  },
  {
   "cell_type": "code",
   "execution_count": 14,
   "id": "c400793d",
   "metadata": {},
   "outputs": [
    {
     "name": "stdout",
     "output_type": "stream",
     "text": [
      "1\n"
     ]
    }
   ],
   "source": [
    "xfconf-query -c xfce4-screensaver --property /saver/mode"
   ]
  },
  {
   "cell_type": "markdown",
   "id": "cdd00019",
   "metadata": {},
   "source": [
    "## `~/.config/xfce4`\n",
    "\n",
    "The XML files the docs speak of seem to be in `~/.config`"
   ]
  },
  {
   "cell_type": "code",
   "execution_count": 19,
   "id": "3bde41c1",
   "metadata": {},
   "outputs": [
    {
     "name": "stdout",
     "output_type": "stream",
     "text": [
      ".\n",
      "./xfce-perchannel-xml\n",
      "./xfce-perchannel-xml/xfce4-desktop.xml\n",
      "./xfce-perchannel-xml/xfce4-panel.xml\n",
      "./xfce-perchannel-xml/xfce4-settings-editor.xml\n",
      "./xfce-perchannel-xml/xfce4-screensaver.xml\n",
      "./xfce-perchannel-xml/keyboard-layout.xml\n",
      "./xfce-perchannel-xml/xfce4-power-manager.xml\n",
      "./xfce-perchannel-xml/xfce4-keyboard-shortcuts.xml\n",
      "./xfce-perchannel-xml/xfce4-settings-manager.xml\n",
      "./xfce-perchannel-xml/xfce4-session.xml\n",
      "./xfce-perchannel-xml/xfce4-appfinder.xml\n",
      "./xfce-perchannel-xml/keyboards.xml\n",
      "./xfce-perchannel-xml/thunar.xml\n",
      "./xfce-perchannel-xml/xfce4-terminal.xml\n",
      "./xfce-perchannel-xml/xfwm4.xml\n",
      "./xfce-perchannel-xml/displays.xml\n",
      "./xfce-perchannel-xml/xsettings.xml\n"
     ]
    }
   ],
   "source": [
    "cd ~/.config/xfce4/xfconf && find"
   ]
  },
  {
   "cell_type": "code",
   "execution_count": null,
   "id": "7cb57ced",
   "metadata": {},
   "outputs": [],
   "source": []
  }
 ],
 "metadata": {
  "kernelspec": {
   "display_name": "Bash",
   "language": "bash",
   "name": "bash"
  },
  "language_info": {
   "codemirror_mode": "shell",
   "file_extension": ".sh",
   "mimetype": "text/x-sh",
   "name": "bash"
  }
 },
 "nbformat": 4,
 "nbformat_minor": 5
}

{
 "cells": [
  {
   "cell_type": "markdown",
   "id": "61baf347",
   "metadata": {},
   "source": [
    "## Install\n",
    "\n",
    "> What I did last time. Likely outdated, read what the [official docs](https://alpinelinux.org/) have to say.\n",
    "\n",
    "```sh\n",
    "setup-alpine\n",
    "# setup-keymap us us-dvorak\n",
    "# ntp-client busybox\n",
    "reboot\n",
    "apk add doas\n",
    "echo \"permit nopass :m\" >>/etc/doas.d/doas.conf\n",
    "setup-desktop xfce\n",
    "```"
   ]
  },
  {
   "cell_type": "markdown",
   "id": "cfd919f5",
   "metadata": {},
   "source": [
    "### Post install\n",
    "\n",
    "```sh\n",
    "doas apk add docs emacs-nox curl git\n",
    "emacs /etc/apk/repositories\n",
    "```"
   ]
  },
  {
   "cell_type": "markdown",
   "id": "2c40459a",
   "metadata": {},
   "source": [
    "## setup-*\n",
    "\n",
    "Simple shells scripts located in `/usr/sbin`.\n",
    "\n",
    "* https://wiki.alpinelinux.org/wiki/Alpine_setup_scripts"
   ]
  },
  {
   "cell_type": "code",
   "execution_count": 4,
   "id": "1962981c",
   "metadata": {},
   "outputs": [
    {
     "name": "stdout",
     "output_type": "stream",
     "text": [
      "setup-acf\n",
      "setup-alpine\n",
      "setup-apkcache\n",
      "setup-apkrepos\n",
      "setup-bootable\n",
      "setup-desktop\n",
      "setup-devd\n",
      "setup-disk\n",
      "setup-dns\n",
      "setup-hostname\n",
      "setup-interfaces\n",
      "setup-keymap\n",
      "setup-lbu\n",
      "setup-mta\n",
      "setup-ntp\n",
      "setup-proxy\n",
      "setup-sshd\n",
      "setup-timezone\n",
      "setup-user\n",
      "setup-wayland-base\n",
      "setup-xen-dom0\n",
      "setup-xorg-base\n"
     ]
    }
   ],
   "source": [
    "ls /usr/sbin | grep setup-"
   ]
  },
  {
   "cell_type": "markdown",
   "id": "4481e2bb",
   "metadata": {},
   "source": [
    "## sys mode\n",
    "\n",
    "sys mode, the one I'm using, is where the Alpine system is installed to a hard disk."
   ]
  },
  {
   "cell_type": "markdown",
   "id": "6c3f4182",
   "metadata": {},
   "source": [
    "## Upgrade\n",
    "\n",
    "From APK section in the alpine user handbook (https://docs.alpinelinux.org/user-handbook/0.1a/Working/apk.html):\n",
    "\n",
    "> Updating the system using apk is very simple. One need only run `apk upgrade`. Technically, this is two steps: `apk update`, followed by `apk upgrade` proper. The first step will download an updated package index from the repositories, while the second step will update all packages in world, as well as their dependencies.\n",
    "\n",
    "More about world in [apk](apk.html). Continuing...\n",
    "\n",
    "> `apk` will overwrite files you may have changed. These will usually by in the `/etc` directory. Whenever `apk` wants to install a file, but realizes a potentially edited one is already present, it will write its file to that file name with `.apk-new` appended. You may handle these by hand, but a utility called `update-conf` exists. Simply invoking it normally will present you with the difference between the two files, and offer various choices for dealing with the conflicts.\n",
    ">\n",
    "> > `apk update` is only ran once your cache is invalidated, which by default happens every 4 hours."
   ]
  }
 ],
 "metadata": {
  "kernelspec": {
   "display_name": "Bash",
   "language": "bash",
   "name": "bash"
  },
  "language_info": {
   "codemirror_mode": "shell",
   "file_extension": ".sh",
   "mimetype": "text/x-sh",
   "name": "bash"
  }
 },
 "nbformat": 4,
 "nbformat_minor": 5
}

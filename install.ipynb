{
 "cells": [
  {
   "cell_type": "markdown",
   "id": "61baf347",
   "metadata": {},
   "source": [
    "## Install\n",
    "\n",
    "Minimal install is just `setup-alpine`, then `setup-desktop`. The following is what _I_ did last time.\n",
    "\n",
    "> Likely outdated, read what the [official docs](https://alpinelinux.org/) have to say.\n",
    "\n",
    "```sh\n",
    "setup-alpine\n",
    "# setup-keymap us / us-dvorak\n",
    "# ntp-client busybox\n",
    "# disk-mode sys\n",
    "# user m\n",
    "reboot\n",
    "\n",
    "apk add doas docs emacs-nox git curl file\n",
    "emacs /etc/apk/repositories\n",
    "echo \"permit nopass :m\" >>/etc/doas.d/doas.conf\n",
    "setup-desktop xfce\n",
    "```"
   ]
  },
  {
   "cell_type": "markdown",
   "id": "2c40459a",
   "metadata": {},
   "source": [
    "## setup-*\n",
    "\n",
    "Simple shells scripts located in `/usr/sbin`.\n",
    "\n",
    "* https://wiki.alpinelinux.org/wiki/Alpine_setup_scripts"
   ]
  },
  {
   "cell_type": "code",
   "execution_count": 4,
   "id": "1962981c",
   "metadata": {},
   "outputs": [
    {
     "name": "stdout",
     "output_type": "stream",
     "text": [
      "setup-acf\n",
      "setup-alpine\n",
      "setup-apkcache\n",
      "setup-apkrepos\n",
      "setup-bootable\n",
      "setup-desktop\n",
      "setup-devd\n",
      "setup-disk\n",
      "setup-dns\n",
      "setup-hostname\n",
      "setup-interfaces\n",
      "setup-keymap\n",
      "setup-lbu\n",
      "setup-mta\n",
      "setup-ntp\n",
      "setup-proxy\n",
      "setup-sshd\n",
      "setup-timezone\n",
      "setup-user\n",
      "setup-wayland-base\n",
      "setup-xen-dom0\n",
      "setup-xorg-base\n"
     ]
    }
   ],
   "source": [
    "ls /usr/sbin | grep setup-"
   ]
  },
  {
   "cell_type": "markdown",
   "id": "4481e2bb",
   "metadata": {},
   "source": [
    "## sys mode\n",
    "\n",
    "sys mode is where the Alpine system is installed to a hard disk."
   ]
  }
 ],
 "metadata": {
  "kernelspec": {
   "display_name": "Bash",
   "language": "bash",
   "name": "bash"
  },
  "language_info": {
   "codemirror_mode": "shell",
   "file_extension": ".sh",
   "mimetype": "text/x-sh",
   "name": "bash"
  }
 },
 "nbformat": 4,
 "nbformat_minor": 5
}

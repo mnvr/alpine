{
 "cells": [
  {
   "cell_type": "markdown",
   "id": "61baf347",
   "metadata": {},
   "source": [
    "## Install\n",
    "\n",
    "> What I did last time. Likely outdated, read what the [official docs](https://alpinelinux.org/) have to say.\n",
    "\n",
    "```sh\n",
    "setup-alpine\n",
    "# setup-keymap us us-dvorak\n",
    "# ntp-client busybox\n",
    "reboot\n",
    "apk add doas\n",
    "echo \"permit nopass :m\" >>/etc/doas.d/doas.conf\n",
    "setup-desktop xfce\n",
    "```"
   ]
  },
  {
   "cell_type": "markdown",
   "id": "cfd919f5",
   "metadata": {},
   "source": [
    "### Post install\n",
    "\n",
    "```sh\n",
    "doas apk add docs emacs-nox curl git\n",
    "emacs /etc/apk/repositories\n",
    "```"
   ]
  }
 ],
 "metadata": {
  "kernelspec": {
   "display_name": "Bash",
   "language": "bash",
   "name": "bash"
  },
  "language_info": {
   "codemirror_mode": "shell",
   "file_extension": ".sh",
   "mimetype": "text/x-sh",
   "name": "bash"
  }
 },
 "nbformat": 4,
 "nbformat_minor": 5
}

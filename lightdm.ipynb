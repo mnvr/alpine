{
 "cells": [
  {
   "cell_type": "markdown",
   "id": "0bd3d8d0",
   "metadata": {},
   "source": [
    "# LightDM\n",
    "\n",
    "Display manager.\n",
    "\n",
    "The display manager is what runs first when we create a desktop environment. It manages the X servers, and provides a login prompt.\n",
    "\n",
    "After we enter the credentials in the login prompt, it starts the display environment's session manager. In our case, that's [xfce4-session](xfce.html)."
   ]
  }
 ],
 "metadata": {
  "kernelspec": {
   "display_name": "Bash",
   "language": "bash",
   "name": "bash"
  },
  "language_info": {
   "codemirror_mode": "shell",
   "file_extension": ".sh",
   "mimetype": "text/x-sh",
   "name": "bash"
  }
 },
 "nbformat": 4,
 "nbformat_minor": 5
}

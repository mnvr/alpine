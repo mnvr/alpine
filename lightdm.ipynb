{
 "cells": [
  {
   "cell_type": "markdown",
   "id": "0bd3d8d0",
   "metadata": {},
   "source": [
    "# LightDM\n",
    "\n",
    "Display manager.\n",
    "\n",
    "The display manager is what runs first when we create a desktop environment. It manages the X servers, and provides a login prompt.\n",
    "\n",
    "After we enter the credentials in the login prompt, it starts the display environment's session manager. In our case, that's [xfce4-session](xfce.html)."
   ]
  },
  {
   "cell_type": "markdown",
   "id": "ce4a85c4",
   "metadata": {},
   "source": [
    "From their home page - https://github.com/canonical/lightdm\n",
    "\n",
    "> LightDM is a lightweight, cross-desktop display manager. A display manager is a daemon that:\n",
    ">\n",
    "> * Runs display servers (e.g. X) where necessary.\n",
    "> * Runs greeters to allow users to pick which user account and session type to use.\n",
    "> * Allows greeters to perform authentication using PAM.\n",
    "> * Runs session processes once authentication is complete.\n",
    ">\n",
    "> Cross-desktop means that it supports different desktop technologies (X, Wayland, Mir, etc).\n",
    ">\n",
    "> The core LightDM project does not provide any greeter with it. Popular options are:\n",
    ">\n",
    "> * LightDM GTK+ greeter\n",
    "> * ...\n",
    "> * Run with no greeter (automatic login only)\n",
    "> * Write your own..."
   ]
  },
  {
   "cell_type": "code",
   "execution_count": 1,
   "id": "0dc0cf3c",
   "metadata": {},
   "outputs": [
    {
     "name": "stdout",
     "output_type": "stream",
     "text": [
      "NAME=\"Alpine Linux\"\n",
      "ID=alpine\n",
      "VERSION_ID=3.21.3\n",
      "PRETTY_NAME=\"Alpine Linux v3.21\"\n",
      "HOME_URL=\"https://alpinelinux.org/\"\n",
      "BUG_REPORT_URL=\"https://gitlab.alpinelinux.org/alpine/aports/-/issues\"\n"
     ]
    }
   ],
   "source": [
    "cat /etc/os-release"
   ]
  },
  {
   "cell_type": "code",
   "execution_count": 2,
   "id": "a7743704",
   "metadata": {},
   "outputs": [
    {
     "name": "stdout",
     "output_type": "stream",
     "text": [
      "3.21.3\n"
     ]
    }
   ],
   "source": [
    "cat /etc/alpine-release"
   ]
  },
  {
   "cell_type": "markdown",
   "id": "c64dccd8",
   "metadata": {},
   "source": [
    "For Alpine (currently),\n",
    "* The display server is X\n",
    "* The greeter is LightDM GTK+\n",
    "* The session process that LightDM will run once authentication completes is xfce4-session."
   ]
  },
  {
   "cell_type": "markdown",
   "id": "71251e31",
   "metadata": {},
   "source": [
    "## Configuration\n",
    "\n",
    "Per the docs, this is the order in which config is read.\n",
    "```\n",
    "/usr/share/lightdm/lightdm.conf.d/*.conf\n",
    "/etc/lightdm/lightdm.conf.d/*.conf\n",
    "/etc/lightdm/lightdm.conf\n",
    "```"
   ]
  },
  {
   "cell_type": "code",
   "execution_count": 3,
   "id": "6fb5b4a0",
   "metadata": {},
   "outputs": [
    {
     "name": "stdout",
     "output_type": "stream",
     "text": [
      "find: /usr/share/lightdm/lightdm.conf.d: No such file or directory\n"
     ]
    },
    {
     "ename": "",
     "evalue": "1",
     "output_type": "error",
     "traceback": []
    }
   ],
   "source": [
    "find /usr/share/lightdm/lightdm.conf.d"
   ]
  },
  {
   "cell_type": "code",
   "execution_count": 4,
   "id": "c67941b3",
   "metadata": {},
   "outputs": [
    {
     "name": "stdout",
     "output_type": "stream",
     "text": [
      "find: /etc/lightdm/lightdm.conf.d: No such file or directory\n"
     ]
    },
    {
     "ename": "",
     "evalue": "1",
     "output_type": "error",
     "traceback": []
    }
   ],
   "source": [
    "find /etc/lightdm/lightdm.conf.d"
   ]
  },
  {
   "cell_type": "code",
   "execution_count": 7,
   "id": "c4e8e906",
   "metadata": {},
   "outputs": [
    {
     "name": "stdout",
     "output_type": "stream",
     "text": [
      "163 /etc/lightdm/lightdm.conf\n"
     ]
    }
   ],
   "source": [
    "wc -l /etc/lightdm/lightdm.conf"
   ]
  },
  {
   "cell_type": "code",
   "execution_count": 9,
   "id": "6953f97c",
   "metadata": {},
   "outputs": [
    {
     "name": "stdout",
     "output_type": "stream",
     "text": [
      "\u001b[0;0mkeys.conf\u001b[m                 \u001b[0;0mlightdm.conf\u001b[m\n",
      "\u001b[0;0mlightdm-gtk-greeter.conf\u001b[m  \u001b[0;0musers.conf\u001b[m\n"
     ]
    }
   ],
   "source": [
    "ls /etc/lightdm"
   ]
  },
  {
   "cell_type": "code",
   "execution_count": 11,
   "id": "67f390f6",
   "metadata": {},
   "outputs": [
    {
     "name": "stdout",
     "output_type": "stream",
     "text": [
      "[keyring]\n",
      "[greeter]\n",
      "[LightDM]\n",
      "\n",
      "[Seat:*]\n",
      "\n",
      "[XDMCPServer]\n",
      "\n",
      "[VNCServer]\n",
      "[UserList]\n",
      "minimum-uid=500\n",
      "hidden-users=nobody nobody4 noaccess\n",
      "hidden-shells=/bin/false /usr/sbin/nologin /sbin/nologin\n"
     ]
    }
   ],
   "source": [
    "cat /etc/lightdm/*.conf | grep -v '^#'"
   ]
  },
  {
   "cell_type": "markdown",
   "id": "74abebc7",
   "metadata": {},
   "source": [
    "So looks like everything is at the defaults. From the docs\n",
    "\n",
    "> For example, if a sysadmin wanted to override the system configured default session they should make a file `/etc/lightdm/lightdm.conf.d/50-myconfig.conf`\n",
    ">\n",
    "> ```\n",
    "> [Seat:*]\n",
    "> user-session=mysession\n",
    "> ```\n",
    ">\n",
    "> Configuration is in keyfile format. For most installations you will want to change the keys in the `[Seat:*]` section as this applies to all seats on the system (normally just one).\n",
    "\n",
    "\"Seat\" is an archaic term (but who knows, maybe we'll return to that style of computing in the future) when the computer occupied a room, and there were multiple seats in the room, each with a keyboard, mouse and a TTY. Currently we usually have a single \"seat\" (keyboard, mouse and display combination), but multiple TTYs (both \"real\" ones, the gettys launched by init on system startup, and \"pseudo\" ones, one for each terminal emulator (<a href=\"xterm.html\">xfce4-terminal</a>. Simulacra and Simulation)."
   ]
  }
 ],
 "metadata": {
  "kernelspec": {
   "display_name": "Bash",
   "language": "bash",
   "name": "bash"
  },
  "language_info": {
   "codemirror_mode": "shell",
   "file_extension": ".sh",
   "mimetype": "text/x-sh",
   "name": "bash"
  }
 },
 "nbformat": 4,
 "nbformat_minor": 5
}

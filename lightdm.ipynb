{
 "cells": [
  {
   "cell_type": "markdown",
   "id": "0bd3d8d0",
   "metadata": {},
   "source": [
    "# LightDM\n",
    "\n",
    "Display manager.\n",
    "\n",
    "The display manager is what runs first when we create a desktop environment. It manages the X servers, and provides a login prompt.\n",
    "\n",
    "After we enter the credentials in the login prompt, it starts the display environment's session manager. In our case, that's [xfce4-session](xfce.html)."
   ]
  },
  {
   "cell_type": "markdown",
   "id": "ce4a85c4",
   "metadata": {},
   "source": [
    "From their home page - https://github.com/canonical/lightdm\n",
    "\n",
    "> LightDM is a lightweight, cross-desktop display manager. A display manager is a daemon that:\n",
    ">\n",
    "> * Runs display servers (e.g. X) where necessary.\n",
    "> * Runs greeters to allow users to pick which user account and session type to use.\n",
    "> * Allows greeters to perform authentication using PAM.\n",
    "> * Runs session processes once authentication is complete.\n",
    ">\n",
    "> Cross-desktop means that it supports different desktop technologies (X, Wayland, Mir, etc).\n",
    ">\n",
    "> The core LightDM project does not provide any greeter with it. Popular options are:\n",
    ">\n",
    "> * LightDM GTK+ greeter\n",
    "> * ...\n",
    "> * Run with no greeter (automatic login only)\n",
    "> * Write your own..."
   ]
  },
  {
   "cell_type": "code",
   "execution_count": 1,
   "id": "0dc0cf3c",
   "metadata": {},
   "outputs": [
    {
     "name": "stdout",
     "output_type": "stream",
     "text": [
      "NAME=\"Alpine Linux\"\n",
      "ID=alpine\n",
      "VERSION_ID=3.21.3\n",
      "PRETTY_NAME=\"Alpine Linux v3.21\"\n",
      "HOME_URL=\"https://alpinelinux.org/\"\n",
      "BUG_REPORT_URL=\"https://gitlab.alpinelinux.org/alpine/aports/-/issues\"\n"
     ]
    }
   ],
   "source": [
    "cat /etc/os-release"
   ]
  },
  {
   "cell_type": "code",
   "execution_count": 2,
   "id": "a7743704",
   "metadata": {},
   "outputs": [
    {
     "name": "stdout",
     "output_type": "stream",
     "text": [
      "3.21.3\n"
     ]
    }
   ],
   "source": [
    "cat /etc/alpine-release"
   ]
  },
  {
   "cell_type": "markdown",
   "id": "c64dccd8",
   "metadata": {},
   "source": [
    "For Alpine (currently),\n",
    "* The display server is X\n",
    "* The greeter is LightDM GTK+\n",
    "* The session process that LightDM will run once authentication completes is xfce4-session."
   ]
  }
 ],
 "metadata": {
  "kernelspec": {
   "display_name": "Bash",
   "language": "bash",
   "name": "bash"
  },
  "language_info": {
   "codemirror_mode": "shell",
   "file_extension": ".sh",
   "mimetype": "text/x-sh",
   "name": "bash"
  }
 },
 "nbformat": 4,
 "nbformat_minor": 5
}

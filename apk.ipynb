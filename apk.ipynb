{
 "cells": [
  {
   "cell_type": "markdown",
   "id": "e0b0e897",
   "metadata": {},
   "source": [
    "# apk\n",
    "\n",
    "Alpine packages keeper\n",
    "\n",
    "#### HTTPS\n",
    "\n",
    "```sh\n",
    "emacs /etc/apk/repositories\n",
    "```\n",
    "\n",
    "### Updating repositories indexes\n",
    "\n",
    "```sh\n",
    "apk update\n",
    "```"
   ]
  }
 ],
 "metadata": {
  "kernelspec": {
   "display_name": "Bash",
   "language": "bash",
   "name": "bash"
  },
  "language_info": {
   "codemirror_mode": "shell",
   "file_extension": ".sh",
   "mimetype": "text/x-sh",
   "name": "bash"
  }
 },
 "nbformat": 4,
 "nbformat_minor": 5
}

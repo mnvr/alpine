{
 "cells": [
  {
   "cell_type": "markdown",
   "id": "e0b0e897",
   "metadata": {},
   "source": [
    "# apk\n",
    "\n",
    "Alpine packages keeper\n",
    "\n",
    "## Repositories\n",
    "\n",
    "3 layers:\n",
    "\n",
    "1. `mirror` hosts\n",
    "2. `release` (collections of snapshots) of\n",
    "3. `repositories`\n",
    "\n",
    "3 repositories\n",
    "\n",
    "1. main\n",
    "2. community\n",
    "3. testing\n",
    "\n",
    "Specified in\n",
    "\n",
    "```sh\n",
    "/etc/apk/repositories\n",
    "```\n",
    "\n",
    "Format of entries is `[@type] [url]`, e.g.\n",
    "```\n",
    "# comment\n",
    "https://dl-cdn.alpinelinux.org/alpine/edge/main\n",
    "/var/apk/my-packages\n",
    "```\n",
    "\n",
    "Public keys of the official Alpine repositories are already included on the system by the `alpine-keys` package.\n",
    "\n",
    "\n",
    "### Updating repositories indexes\n",
    "\n",
    "```sh\n",
    "apk update\n",
    "```"
   ]
  }
 ],
 "metadata": {
  "kernelspec": {
   "display_name": "Bash",
   "language": "bash",
   "name": "bash"
  },
  "language_info": {
   "codemirror_mode": "shell",
   "file_extension": ".sh",
   "mimetype": "text/x-sh",
   "name": "bash"
  }
 },
 "nbformat": 4,
 "nbformat_minor": 5
}

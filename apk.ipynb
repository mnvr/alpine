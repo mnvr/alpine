{
 "cells": [
  {
   "cell_type": "markdown",
   "id": "e0b0e897",
   "metadata": {},
   "source": [
    "# apk\n",
    "\n",
    "Alpine packages keeper\n",
    "\n",
    "## Repositories\n",
    "\n",
    "3 layers:\n",
    "\n",
    "1. `mirror` hosts\n",
    "2. `release` (collections of snapshots) of\n",
    "3. `repositories`\n",
    "\n",
    "3 repositories\n",
    "\n",
    "1. main\n",
    "2. community\n",
    "3. testing\n",
    "\n",
    "Specified in\n",
    "\n",
    "```sh\n",
    "/etc/apk/repositories\n",
    "```\n",
    "\n",
    "Format of entries is `[@type] [url]`, e.g.\n",
    "```\n",
    "# comment\n",
    "https://dl-cdn.alpinelinux.org/alpine/edge/main\n",
    "/var/apk/my-packages\n",
    "```\n",
    "\n",
    "Public keys of the official Alpine repositories are already included on the system by the `alpine-keys` package.\n",
    "\n",
    "\n",
    "### Updating repositories indexes\n",
    "\n",
    "```sh\n",
    "apk update\n",
    "```\n",
    "\n",
    "### World\n",
    "\n",
    "List of all installed packages:\n",
    "\n",
    "```sh\n",
    "cat /etc/apk/world\n",
    "```\n",
    "\n",
    "From Alpine docs (https://docs.alpinelinux.org/user-handbook/0.1a/Working/apk.html#_world):\n",
    "\n",
    "> The packages you want to have explicitly installed are listed in the \"world file\" available in `/etc/apk/world`. It is safe to edit by hand. If you've edited it by hand, you may run `apk add` with no arguments to bring the package selection to a consistent state."
   ]
  }
 ],
 "metadata": {
  "kernelspec": {
   "display_name": "Bash",
   "language": "bash",
   "name": "bash"
  },
  "language_info": {
   "codemirror_mode": "shell",
   "file_extension": ".sh",
   "mimetype": "text/x-sh",
   "name": "bash"
  }
 },
 "nbformat": 4,
 "nbformat_minor": 5
}

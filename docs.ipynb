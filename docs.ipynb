{
 "cells": [
  {
   "cell_type": "markdown",
   "id": "5ca963b4",
   "metadata": {},
   "source": [
    "# Docs"
   ]
  },
  {
   "cell_type": "markdown",
   "id": "4f478abc",
   "metadata": {},
   "source": [
    "### Install\n",
    "\n",
    "Install the docs package to obtain man pages.\n",
    "\n",
    "```\n",
    "doas apk add docs\n",
    "```\n",
    "\n",
    "The `docs` special package installs docs for both already installed packages and future ones automatically."
   ]
  },
  {
   "cell_type": "markdown",
   "id": "a37e769c",
   "metadata": {},
   "source": [
    "### Busybox\n",
    "\n",
    "Busybox itself has a man page (`man busybox`) which only has a terse overview of the utilities. For more detailed documentation, the opengroup specs are handy (busybox tries to, but does not guarantee, POSIX conformance).\n",
    "\n",
    "* Top level: https://pubs.opengroup.org/onlinepubs/9799919799/\n",
    "* Index of shell commands:  https://pubs.opengroup.org/onlinepubs/9699919799/utilities/\n",
    "* Man page for awk: https://pubs.opengroup.org/onlinepubs/9699919799/utilities/awk.html\n",
    "\n",
    "### POSIX man pages\n",
    "\n",
    "But hey, there is a better way!\n",
    "\n",
    "```\n",
    "doas apk add man-pages-posix\n",
    "man awk\n",
    "???\n",
    "profit!\n",
    "```"
   ]
  }
 ],
 "metadata": {
  "kernelspec": {
   "display_name": "Bash",
   "language": "bash",
   "name": "bash"
  },
  "language_info": {
   "codemirror_mode": "shell",
   "file_extension": ".sh",
   "mimetype": "text/x-sh",
   "name": "bash"
  }
 },
 "nbformat": 4,
 "nbformat_minor": 5
}

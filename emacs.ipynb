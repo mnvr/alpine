{
 "cells": [
  {
   "cell_type": "markdown",
   "id": "26d8c520",
   "metadata": {},
   "source": [
    "# emacs\n",
    "\n",
    "Hello old friend, we meet again.\n",
    "\n",
    "### Install\n",
    "\n",
    "```\n",
    "apk add emacs-nox\n",
    "```\n",
    "\n",
    "nox is not a noxious variant (emacs is enough of that, and I say that as a friend), it means \"no x\"."
   ]
  }
 ],
 "metadata": {
  "kernelspec": {
   "display_name": "Bash",
   "language": "bash",
   "name": "bash"
  },
  "language_info": {
   "codemirror_mode": "shell",
   "file_extension": ".sh",
   "mimetype": "text/x-sh",
   "name": "bash"
  }
 },
 "nbformat": 4,
 "nbformat_minor": 5
}

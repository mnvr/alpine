{
 "cells": [
  {
   "cell_type": "markdown",
   "id": "a0b3fdc6",
   "metadata": {},
   "source": [
    "# /sys and /proc\n",
    "\n",
    "There was `/proc`, a pseudo file system where user space could talk with the kernel, but apparently people ran amok so arose `/sys`, which is sort of like proc v2, but now with more consistency."
   ]
  }
 ],
 "metadata": {
  "kernelspec": {
   "display_name": "Bash",
   "language": "bash",
   "name": "bash"
  },
  "language_info": {
   "codemirror_mode": "shell",
   "file_extension": ".sh",
   "mimetype": "text/x-sh",
   "name": "bash"
  }
 },
 "nbformat": 4,
 "nbformat_minor": 5
}

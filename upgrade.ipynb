{
 "cells": [
  {
   "cell_type": "markdown",
   "id": "19cfffff",
   "metadata": {},
   "source": [
    "# Upgrade\n",
    "\n",
    "From APK section in the alpine user handbook (https://docs.alpinelinux.org/user-handbook/0.1a/Working/apk.html):\n",
    "\n",
    "> Updating the system using apk is very simple. One need only run `apk upgrade`. Technically, this is two steps: `apk update`, followed by `apk upgrade` proper. The first step will download an updated package index from the repositories, while the second step will update all packages in world, as well as their dependencies.\n",
    "\n",
    "More about world in [apk](apk.html). Continuing...\n",
    "\n",
    "> `apk` will overwrite files you may have changed. These will usually by in the `/etc` directory. Whenever `apk` wants to install a file, but realizes a potentially edited one is already present, it will write its file to that file name with `.apk-new` appended. You may handle these by hand, but a utility called `update-conf` exists. Simply invoking it normally will present you with the difference between the two files, and offer various choices for dealing with the conflicts.\n",
    ">\n",
    "> > `apk update` is only ran once your cache is invalidated, which by default happens every 4 hours.\n",
    "\n",
    "The `apk update` might not even be necessary, see `man apk-update`:\n",
    "\n",
    "> This command is not needed in normal operations as all applets requiring indexes will automatically refresh them after caching time expires.\n",
    "\n",
    "The wiki page of upgrades (https://wiki.alpinelinux.org/wiki/Upgrading_Alpine_Linux_to_a_new_release_branch) says there are three steps we need to do:\n",
    "\n",
    "> 1. Update repositories file\n",
    "> 2. Updatating package lists\n",
    "> 3. Upgrading packages."
   ]
  },
  {
   "cell_type": "markdown",
   "id": "9a39ceac",
   "metadata": {},
   "source": [
    "Step 1 is \n",
    "```sh\n",
    "emacs /etc/apk/repositories\n",
    "```\n",
    "and put the latest version. \n",
    "\n",
    "> There is a way to skip this step for future upgrades by putting `latest-stable` instead of version numbers, but the wiki cautions that this might lead to release upgrades when one is not expecting.\n",
    "\n",
    "Step 2 is `apk update`.\n",
    "\n",
    "Step 3 is `apk upgrade --available`. The `--available` is to do with updating pinned packages, but I'm not sure, so will just follow the recommendation (this is the banner command listed in the release announcement).\n",
    "\n",
    "If every thing goes well, we'll require a `reboot`. See you on the other side!"
   ]
  },
  {
   "cell_type": "markdown",
   "id": "5feb589f",
   "metadata": {},
   "source": [
    "## Back!\n",
    "\n",
    "Survived."
   ]
  },
  {
   "cell_type": "code",
   "execution_count": 1,
   "id": "442ffa59",
   "metadata": {},
   "outputs": [
    {
     "name": "stdout",
     "output_type": "stream",
     "text": [
      "3.22.0\n"
     ]
    }
   ],
   "source": [
    "cat /etc/alpine-release"
   ]
  },
  {
   "cell_type": "markdown",
   "id": "a89a0845",
   "metadata": {},
   "source": [
    "The reboot was apparently not necessary, I could've just restarted the services that were updated, but reboot was easier. From wiki:\n",
    "\n",
    "> All services that have been upgraded need to be restarted, to begin using the upgraded version. If the kernel is upgraded, it's required to it's required to reboot to begin the upgraded version.\n",
    ">\n",
    "> ```sh\n",
    "> sync\n",
    "> reboot\n",
    "> ```"
   ]
  },
  {
   "cell_type": "code",
   "execution_count": null,
   "id": "fdf85999",
   "metadata": {},
   "outputs": [],
   "source": []
  }
 ],
 "metadata": {
  "kernelspec": {
   "display_name": "Bash",
   "language": "bash",
   "name": "bash"
  },
  "language_info": {
   "codemirror_mode": "shell",
   "file_extension": ".sh",
   "mimetype": "text/x-sh",
   "name": "bash"
  }
 },
 "nbformat": 4,
 "nbformat_minor": 5
}

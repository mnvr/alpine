{
 "cells": [
  {
   "cell_type": "markdown",
   "id": "66682b7e",
   "metadata": {},
   "source": [
    "# xfce\n",
    "\n",
    "Desktop environment\n",
    "\n",
    "* https://xfce.org/\n",
    "* https://docs.xfce.org/xfce/getting-started"
   ]
  },
  {
   "cell_type": "code",
   "execution_count": 1,
   "id": "5c35bd6d",
   "metadata": {
    "scrolled": true
   },
   "outputs": [
    {
     "name": "stdout",
     "output_type": "stream",
     "text": [
      "xfce4-about 4.18.6 (Xfce 4.18)\n",
      "\n",
      "Copyright (c) 2008-2024\n",
      "\tThe Xfce development team. All rights reserved.\n",
      "\n",
      "Please report bugs to <https://gitlab.xfce.org/xfce/libxfce4ui/-/issues>.\n"
     ]
    }
   ],
   "source": [
    "xfce4-about --version"
   ]
  },
  {
   "cell_type": "markdown",
   "id": "5c3107de",
   "metadata": {},
   "source": [
    "## Components\n",
    "\n",
    "In the UNIX-small-tools spirit, the \"Xfce desktop environment\" is a collection of programs that provides a full-featured desktop environment.\n",
    "\n",
    "> Xfce used to stand for something, an acronymn, whose expansion no longer has any relevance, so \"Xfce\" just means itself now.\n",
    "\n",
    "Descriptions taken from `xfce4-about` and the xfce [about](https://www.xfce.org/about) page. \n",
    "\n",
    "> These binaries can be run individually. e.g. `xfce-about &` to show the about menu, `xfdesktop --windowlist` to show open windows etc.\n",
    "\n",
    "* **Window manager** (`xfwm4`): Handles the placement of windows on screen, provides window decorations and manages workspaces.\n",
    "\n",
    "* **Desktop manager** (`xfdesktop`): Sets the background image and provides a root window menu, desktop icons or minimized icons and a window list.\n",
    "\n",
    "* **Panel** (`xfce4-panel`): Switch between open windows, launch applications, switch workspaces and use menu plugins to browse programs and directories.\n",
    "\n",
    "* **Session manager** (`xfce4-session`): Controls login and power management, saves and restores sessions."
   ]
  },
  {
   "cell_type": "markdown",
   "id": "b2be49a3",
   "metadata": {},
   "source": [
    "## Session manager `xfce4-session`\n",
    "\n",
    "`man xfce4-session`\n",
    "\n",
    "> The xfce4-session program starts up the Xfce Desktop Environment and is typically executed by your login manager (e.g. xdm, gdm, kdm, wdm or from your X startup scripts). It will load your last session or a default session that includes the standard Xfce programs if no saved session is available.\n",
    ">\n",
    "> xfce4-session is a standard X11R6 session manager than can manage any X11R6 session manager compliant program, including gnome and KDE programs.\n",
    ">\n",
    "> xfce4-session uses the contents of the `~/.cache/sessions` directory for starting previously saved sessions."
   ]
  },
  {
   "cell_type": "code",
   "execution_count": 4,
   "id": "d0d81fee",
   "metadata": {},
   "outputs": [
    {
     "name": "stdout",
     "output_type": "stream",
     "text": [
      "\u001b[1;34mthumbs-localhost:0\u001b[m\n",
      "\u001b[0;0mxfce4-session-localhost:0\u001b[m\n",
      "\u001b[0;0mxfwm4-26b706f01-8fc9-4136-a5de-c7a189e18e56.state\u001b[m\n"
     ]
    }
   ],
   "source": [
    "ls ~/.cache/sessions"
   ]
  },
  {
   "cell_type": "code",
   "execution_count": 5,
   "id": "c8d5edbf",
   "metadata": {},
   "outputs": [
    {
     "name": "stdout",
     "output_type": "stream",
     "text": [
      "\u001b[0;0mDefault.png\u001b[m\n"
     ]
    }
   ],
   "source": [
    "ls ~/.cache/sessions/thumbs*"
   ]
  },
  {
   "cell_type": "markdown",
   "id": "ddf2ccf1",
   "metadata": {},
   "source": [
    "`Default.png` is a small 256x160px screenshot of the desktop and running applications (seems stale, perhaps at the point the session was saved).\n",
    "\n",
    "`xfce4-session-localhost:0`, where presumably `:0` stands for the X display number, is a text file containing an entry for all the running programs."
   ]
  },
  {
   "cell_type": "code",
   "execution_count": 6,
   "id": "af7de0d4",
   "metadata": {},
   "outputs": [
    {
     "name": "stdout",
     "output_type": "stream",
     "text": [
      "[Session: Default]\n",
      "Client0_ClientId=26b706f01-8fc9-4136-a5de-c7a189e18e56\n",
      "Client0_Hostname=unix/localhost\n",
      "Client0_CloneCommand=xfwm4,\n",
      "Client0_DiscardCommand=rm,-rf,/home/m/.cache/sessions/xfwm4-26b706f01-8fc9-4136-a5de-c7a189e18e56.state,\n",
      "Client0_RestartCommand=xfwm4,--display,:0.0,--sm-client-id,26b706f01-8fc9-4136-a5de-c7a189e18e56,\n",
      "Client0_CurrentDirectory=/home/m\n",
      "Client0_Program=xfwm4\n",
      "...\n",
      "Client6_DesktopFile=/usr/share/applications/xfce4-terminal.desktop\n",
      "Client6_Program=xfce4-terminal\n",
      "Client6_UserId=m\n",
      "Client6_Priority=50\n",
      "Client6_RestartStyleHint=0\n",
      "Count=7\n",
      "LegacyCount=0\n",
      "Screen0_ActiveWorkspace=0\n",
      "LastAccess=1748618509\n"
     ]
    }
   ],
   "source": [
    "cat ~/.cache/sessions/xfce4-session-localhost:0 | awk 'NR < 9 || NR > 63 { print }; NR == 63 { print \"...\" }'"
   ]
  },
  {
   "cell_type": "markdown",
   "id": "3dde1595",
   "metadata": {},
   "source": [
    "Similarly, but differently, the `xfwm4-<uuid>.state` file is a text file containing details about all open windows."
   ]
  },
  {
   "cell_type": "code",
   "execution_count": 10,
   "id": "c63792c6",
   "metadata": {},
   "outputs": [
    {
     "name": "stdout",
     "output_type": "stream",
     "text": [
      "[CLIENT] 0x800003\n",
      "  [CLIENT_ID] 2cab7566f-86f4-426d-82c3-8edfc5ee80d9\n",
      "  [CLIENT_LEADER] 0x800001\n",
      "  [WINDOW_ROLE] xfce4-terminal-1748614300-1539522888\n",
      "  [RES_NAME] xfce4-terminal\n",
      "  [RES_CLASS] Xfce4-terminal\n",
      "  [WM_NAME] Terminal\n",
      "  [WM_COMMAND] (1) \"xfce4-terminal\"\n",
      "  [GEOMETRY] (127,91,817,483)\n",
      "  [GEOMETRY-MAXIMIZED] (127,91,817,483)\n",
      "  [SCREEN] 0\n",
      "  [DESK] 0\n",
      "  [FLAGS] 0x0\n",
      "[CLIENT] 0x800216\n",
      "  [CLIENT_ID] 2cab7566f-86f4-426d-82c3-8edfc5ee80d9\n",
      "  [CLIENT_LEADER] 0x800001\n",
      "  [WINDOW_ROLE] xfce4-terminal-1748614362-2333586391\n",
      "  [RES_NAME] xfce4-terminal\n",
      "  [RES_CLASS] Xfce4-terminal\n",
      "  [WM_NAME] Terminal - \n",
      "  [WM_COMMAND] (1) \"xfce4-terminal\"\n",
      "  [GEOMETRY] (618,412,817,483)\n",
      "  [GEOMETRY-MAXIMIZED] (618,412,817,483)\n",
      "  [SCREEN] 0\n",
      "  [DESK] 0\n",
      "  [FLAGS] 0x10000\n"
     ]
    }
   ],
   "source": [
    "cat ~/.cache/sessions/xfwm4-*.state"
   ]
  },
  {
   "cell_type": "markdown",
   "id": "f94dfa0a",
   "metadata": {},
   "source": [
    "More details about xfce4-session are available in the Xfce online manuals:\n",
    "\n",
    "* https://docs.xfce.org/xfce/xfce4-session\n",
    "\n",
    "> Xfce4-session is a session manager for Xfce. Its task is to save the state of your desktop (opened applications and their location) and restore it during a next startup. You can create several different sessions and choose one of them on startup."
   ]
  },
  {
   "cell_type": "markdown",
   "id": "06c90e15",
   "metadata": {},
   "source": [
    "## Window manager\n",
    "\n",
    "### Tips\n",
    "\n",
    "> Shading (and unshading) a window, or rolling it up to hide its contents and only show the title bar, can be done by scrolling the mouse wheel when hovering over the title bar."
   ]
  },
  {
   "cell_type": "markdown",
   "id": "bbf26246",
   "metadata": {},
   "source": [
    "## Display Manager\n",
    "\n",
    "Who starts Xfce?\n",
    "\n",
    "> ### Running Xfce\n",
    ">\n",
    "> #### Display managers\n",
    ">\n",
    "> `xfce4-session` installs a file that should add an option for display managers to run an Xfce session. Xfce does not have its own DM.\n",
    ">\n",
    "> #### Commandline\n",
    ">\n",
    "> `startxfce4`\n",
    "\n",
    "In the case of alpine when using `setup-desktop` with the xfce option, the display manager is [lightdm](lightdm.html).\n",
    "\n",
    "Lightdm then would start xfce4-session, which would in turn\n",
    "\n",
    "> When you start the Xfce session for the first time, several programs are started by the Xfce session manager.\n",
    ">\n",
    "> * Panel\n",
    "> * Desktop manager\n",
    "> * Window manager \n",
    "> * Settings manager.\n",
    ">\n",
    "> The Xfce session manager manages the startup of applications, and also allows you to save your session when you quit Xfce, so that the next time you log in, the same programs are started for you automatically.\n",
    "\n",
    "We can see this in the following (ellided) output of `pstree`\n",
    "\n",
    "```\n",
    "init-+...                                                                       \n",
    "     |-elogind-daemon                                                           \n",
    "     |-7*[getty]                                                                \n",
    "     |-supervise-daem--lightdm-+-Xorg---{InputThread}                           \n",
    "                               |-lightdm-+-xfce4-session-+-Thunar               \n",
    "                                                         |-xfce4-panel          \n",
    "                                                         |-xfce4-power-man      \n",
    "                                                         |-xfce4-screensav      \n",
    "                                                         |-xfce4-terminal       \n",
    "                                                         |-xfdesktop            \n",
    "                                                         |-xfsettingsd \n",
    "```"
   ]
  },
  {
   "cell_type": "markdown",
   "id": "a6af4e65",
   "metadata": {},
   "source": [
    "## Components II\n",
    "\n",
    "* **Settings manager** (`xfce4-settings`): A pseudo component which is made up of a daemon, manager and editor to centralize the configuration management.\n",
    "\n",
    "* **Application finder** (`xfce4-appfinder`): `Alt-F2` to launch applications.\n",
    "\n",
    "* **Thunar** (`thunar`): File manager."
   ]
  },
  {
   "cell_type": "markdown",
   "id": "15594472",
   "metadata": {},
   "source": [
    "## Application finder `xfce4-appfinder`\n",
    "\n",
    "> The Xfce panel can be used to access programs by means of _launchers_, these program launchers are displayed as icons on the panel to launch the specified program. The _Applications Menu_ item on the panel also contains all installed programs.\n",
    "\n",
    "> _Application finder_ (`Alt-F2` or chose \"Run Program...\" from the Application or Desktop Menu) can be used to launch programs by name.\n",
    "\n",
    "By default, the `xfce4-session` will start an instance of `xfce4-appfinder` (as a child of `xfsettingsd` and keep it running in the background for fast access, reusing it for invocations."
   ]
  },
  {
   "cell_type": "markdown",
   "id": "04c3a14b",
   "metadata": {},
   "source": [
    "## Thunar\n",
    "\n",
    "File manager, named after the German god of Thunder (who appears to be the same entity as the perhaps better known Norse god Thor).\n",
    "\n",
    "`thunar` without arguments does the same thing as `xdg-open .`, opening the current folder in the file manager."
   ]
  },
  {
   "cell_type": "code",
   "execution_count": 11,
   "id": "9228f31c",
   "metadata": {},
   "outputs": [
    {
     "name": "stdout",
     "output_type": "stream",
     "text": [
      "lrwxrwxrwx    1 root     root           6 May 17 17:01 \u001b[1;36m/usr/bin/Thunar\u001b[m -> \u001b[1;32mthunar\u001b[m\n",
      "-rwxr-xr-x    1 root     root      777.9K Jul 31  2024 \u001b[1;32m/usr/bin/thunar\u001b[m\n"
     ]
    }
   ],
   "source": [
    "ls -lh `which thunar` `which Thunar`"
   ]
  },
  {
   "cell_type": "code",
   "execution_count": null,
   "id": "a0b2d1e5",
   "metadata": {},
   "outputs": [],
   "source": []
  }
 ],
 "metadata": {
  "kernelspec": {
   "display_name": "Bash",
   "language": "bash",
   "name": "bash"
  },
  "language_info": {
   "codemirror_mode": "shell",
   "file_extension": ".sh",
   "mimetype": "text/x-sh",
   "name": "bash"
  }
 },
 "nbformat": 4,
 "nbformat_minor": 5
}

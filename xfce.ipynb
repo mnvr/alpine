{
 "cells": [
  {
   "cell_type": "markdown",
   "id": "66682b7e",
   "metadata": {},
   "source": [
    "# xfce\n",
    "\n",
    "Desktop environment\n",
    "\n"
   ]
  }
 ],
 "metadata": {
  "kernelspec": {
   "display_name": "Bash",
   "language": "bash",
   "name": "bash"
  },
  "language_info": {
   "codemirror_mode": "shell",
   "file_extension": ".sh",
   "mimetype": "text/x-sh",
   "name": "bash"
  }
 },
 "nbformat": 4,
 "nbformat_minor": 5
}

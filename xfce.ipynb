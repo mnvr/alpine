{
 "cells": [
  {
   "cell_type": "markdown",
   "id": "66682b7e",
   "metadata": {},
   "source": [
    "# xfce\n",
    "\n",
    "Desktop environment\n",
    "\n",
    "* [xfce.org](https://xfce.org/)"
   ]
  },
  {
   "cell_type": "code",
   "execution_count": 1,
   "id": "5c35bd6d",
   "metadata": {
    "scrolled": false
   },
   "outputs": [
    {
     "name": "stdout",
     "output_type": "stream",
     "text": [
      "xfce4-about 4.18.6 (Xfce 4.18)\n",
      "\n",
      "Copyright (c) 2008-2024\n",
      "\tThe Xfce development team. All rights reserved.\n",
      "\n",
      "Please report bugs to <https://gitlab.xfce.org/xfce/libxfce4ui/-/issues>.\n"
     ]
    }
   ],
   "source": [
    "xfce4-about --version"
   ]
  },
  {
   "cell_type": "markdown",
   "id": "5c3107de",
   "metadata": {},
   "source": [
    "### Components\n",
    "\n",
    "In the UNIX-small-tools spirit, the \"Xfce desktop environment\" is a collection of programs that provides a full-featured desktop environment.\n",
    "\n",
    "> Xfce used to stand for something, an acronymn, whose expansion no longer has any relevance, so \"Xfce\" just means itself now.\n",
    "\n",
    "Descriptions taken from `xfce4-about` and the xfce [about](https://www.xfce.org/about) page. \n",
    "\n",
    "> These binaries can be run individually. e.g. `xfce-about &` to show the about menu, `xfdesktop --windowlist` to show open windows etc.\n",
    "\n",
    "* **Window manager** (`xfwm4`): Handles the placement of windows on screen, provides window decorations and manages workspaces.\n",
    "\n",
    "* **Desktop** (`xfdesktop`): Sets the background image and provides a root window menu, desktop icons or minimized icons and a window list."
   ]
  }
 ],
 "metadata": {
  "kernelspec": {
   "display_name": "Bash",
   "language": "bash",
   "name": "bash"
  },
  "language_info": {
   "codemirror_mode": "shell",
   "file_extension": ".sh",
   "mimetype": "text/x-sh",
   "name": "bash"
  }
 },
 "nbformat": 4,
 "nbformat_minor": 5
}

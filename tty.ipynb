{
 "cells": [
  {
   "cell_type": "markdown",
   "id": "08350378",
   "metadata": {},
   "source": [
    "# tty\n",
    "\n",
    "## History\n",
    "\n",
    "Long (but getting shorter) and interesting reads about what and why\n",
    "\n",
    "* The TTY demystified - https://www.linusakesson.net/programming/tty/\n",
    "* TTY: under the hood - https://www.yabage.me/2016/07/08/tty-under-the-hood/\n",
    "* Terminal under the hood - TTY & PTY - https://yakout.io/blog/terminal-under-the-hood/\n",
    "\n",
    "TTYs (\"Teletypes\") predate computers! They were fax machines that got repurposed to talk to computers when computers came along. Maybe interesting context for the mindscape Turing was in when he came up with his test."
   ]
  },
  {
   "cell_type": "markdown",
   "id": "9344d996",
   "metadata": {},
   "source": [
    "### Seat\n",
    "\n",
    "\"Seat\" is an archaic term (but who knows, maybe we'll return to that style of computing in the future) when the computer occupied a room, and there were multiple seats in the room, each with a keyboard, mouse and a TTY. Currently we usually have a single \"seat\" (keyboard, mouse and display combination), but multiple TTYs (both \"real\" ones, the gettys launched by init on system startup, and \"pseudo\" ones, one for each terminal emulator ([xfce4-terminal](xterm.html). Simulacra and Simulation)."
   ]
  },
  {
   "cell_type": "code",
   "execution_count": 2,
   "id": "59fcb679",
   "metadata": {},
   "outputs": [
    {
     "name": "stdout",
     "output_type": "stream",
     "text": [
      "root      2494     1  0 08:53 tty1     00:00:00 /sbin/getty 38400 tty1\n",
      "root      2495     1  0 08:53 tty2     00:00:00 /sbin/getty 38400 tty2\n",
      "root      2497     1  0 08:53 tty3     00:00:00 /sbin/getty 38400 tty3\n",
      "root      2498     1  0 08:53 tty4     00:00:00 /sbin/getty 38400 tty4\n",
      "root      2502     1  0 08:53 tty5     00:00:00 /sbin/getty 38400 tty5\n",
      "root      2503     1  0 08:53 tty6     00:00:00 /sbin/getty 38400 tty6\n",
      "root      2504     1  0 08:53 ?        00:00:00 /sbin/getty -L 0 ttyAMA0 vt100\n"
     ]
    }
   ],
   "source": [
    "ps -ef | grep '[g]etty'"
   ]
  },
  {
   "cell_type": "markdown",
   "id": "eb917e15",
   "metadata": {},
   "source": [
    "### pty\n",
    "\n",
    "pty is a user space terminal (they're all pseudo, the ttys too)."
   ]
  },
  {
   "cell_type": "code",
   "execution_count": 1,
   "id": "1affba0e",
   "metadata": {},
   "outputs": [
    {
     "name": "stdout",
     "output_type": "stream",
     "text": [
      "/dev/pts/9\n"
     ]
    }
   ],
   "source": [
    "tty"
   ]
  }
 ],
 "metadata": {
  "kernelspec": {
   "display_name": "Bash",
   "language": "bash",
   "name": "bash"
  },
  "language_info": {
   "codemirror_mode": "shell",
   "file_extension": ".sh",
   "mimetype": "text/x-sh",
   "name": "bash"
  }
 },
 "nbformat": 4,
 "nbformat_minor": 5
}

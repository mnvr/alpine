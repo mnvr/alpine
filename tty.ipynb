{
 "cells": [
  {
   "cell_type": "markdown",
   "id": "08350378",
   "metadata": {},
   "source": [
    "# tty\n",
    "\n",
    "## History\n",
    "\n",
    "Long (but getting shorter) and interesting reads about what and why\n",
    "\n",
    "* The TTY demystified - https://www.linusakesson.net/programming/tty/\n",
    "* TTY: under the hood - https://www.yabage.me/2016/07/08/tty-under-the-hood/\n",
    "* Terminal under the hood - TTY & PTY - https://yakout.io/blog/terminal-under-the-hood/\n",
    "\n",
    "TTYs (\"Teletypes\") predate computers! They were fax machines that got repurposed to talk to computers when computers came along. Maybe interesting context for the mindscape Turing was in when he came up with his test.\n",
    "\n",
    "### pty\n",
    "\n",
    "pty is a user space terminal (they're all pseudo, the ttys too)."
   ]
  },
  {
   "cell_type": "code",
   "execution_count": 1,
   "id": "1affba0e",
   "metadata": {},
   "outputs": [
    {
     "name": "stdout",
     "output_type": "stream",
     "text": [
      "/dev/pts/9\n"
     ]
    }
   ],
   "source": [
    "tty"
   ]
  },
  {
   "cell_type": "code",
   "execution_count": null,
   "id": "650f1357",
   "metadata": {},
   "outputs": [],
   "source": []
  }
 ],
 "metadata": {
  "kernelspec": {
   "display_name": "Bash",
   "language": "bash",
   "name": "bash"
  },
  "language_info": {
   "codemirror_mode": "shell",
   "file_extension": ".sh",
   "mimetype": "text/x-sh",
   "name": "bash"
  }
 },
 "nbformat": 4,
 "nbformat_minor": 5
}

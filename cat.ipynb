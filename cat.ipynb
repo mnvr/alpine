{
 "cells": [
  {
   "cell_type": "markdown",
   "id": "02e189db",
   "metadata": {},
   "source": [
    "# cat\n",
    "\n",
    "If you go around telling people about a useless use of cat, you're an idiot."
   ]
  }
 ],
 "metadata": {
  "kernelspec": {
   "display_name": "Bash",
   "language": "bash",
   "name": "bash"
  },
  "language_info": {
   "codemirror_mode": "shell",
   "file_extension": ".sh",
   "mimetype": "text/x-sh",
   "name": "bash"
  }
 },
 "nbformat": 4,
 "nbformat_minor": 5
}

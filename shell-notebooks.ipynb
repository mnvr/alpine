{
 "cells": [
  {
   "cell_type": "markdown",
   "id": "ff657b5e",
   "metadata": {},
   "source": [
    "### Jupyter notebooks with a bash kernel"
   ]
  },
  {
   "cell_type": "markdown",
   "id": "07f74692",
   "metadata": {},
   "source": [
    "[Jupyter](https://jupyter.org/) is many things, for historical reasons, but for our current purpose, we need only one of them - the Jupyter notebook.\n",
    "\n",
    "```sh\n",
    "apk search jupyter\n",
    "apk add jupyter-notebook\n",
    "```\n",
    "\n",
    "We want to run shell commands, and for this we need to install the [bash_kernel](https://github.com/takluyver/bash_kernel) (and bash).\n",
    "\n",
    "```sh\n",
    "apk add bash\n",
    "apk add py3-pip\n",
    "pip install --break-system-packages bash_kernel\n",
    "python -m bash_kernel.install\n",
    "```\n",
    "\n",
    "Now we can run\n",
    "\n",
    "```sh\n",
    "jupyter notebook\n",
    "```\n",
    "\n",
    "The next cell in this notebook runs a bash command interactively and stores its output within the notebook."
   ]
  },
  {
   "cell_type": "code",
   "execution_count": 1,
   "id": "c7c04ce2",
   "metadata": {},
   "outputs": [
    {
     "name": "stdout",
     "output_type": "stream",
     "text": [
      "\u001b[0;0mLICENSE\u001b[m                \u001b[0;0mgit.ipynb\u001b[m\n",
      "\u001b[0;0mREADME.md\u001b[m              \u001b[0;0mshell-notebooks.ipynb\u001b[m\n"
     ]
    }
   ],
   "source": [
    "ls"
   ]
  },
  {
   "cell_type": "markdown",
   "id": "6fd597c9",
   "metadata": {},
   "source": [
    "### Conversion to HTML\n",
    "\n",
    "```sh\n",
    "jupyter nbconvert --to html --template classic *.ipynb\n",
    "```"
   ]
  }
 ],
 "metadata": {
  "kernelspec": {
   "display_name": "Bash",
   "language": "bash",
   "name": "bash"
  },
  "language_info": {
   "codemirror_mode": "shell",
   "file_extension": ".sh",
   "mimetype": "text/x-sh",
   "name": "bash"
  }
 },
 "nbformat": 4,
 "nbformat_minor": 5
}

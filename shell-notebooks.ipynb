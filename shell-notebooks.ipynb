{
 "cells": [
  {
   "cell_type": "markdown",
   "id": "ff657b5e",
   "metadata": {},
   "source": [
    "### Jupyter notebooks with a bash kernel"
   ]
  },
  {
   "cell_type": "markdown",
   "id": "07f74692",
   "metadata": {},
   "source": [
    "[Jupyter](https://jupyter.org/) is many things, for historical reasons, but for our current purpose, we need only one of them - the Jupyter notebook.\n",
    "\n",
    "```sh\n",
    "apk search jupyter\n",
    "doas apk add jupyter-notebook\n",
    "```\n",
    "\n",
    "We want to run shell commands, and for this we need to install the [bash_kernel](https://github.com/takluyver/bash_kernel) (and bash)\n",
    "\n",
    "```sh\n",
    "doas apk add bash\n",
    "pip install --break-system-packages bash_kernel\n",
    "python -m bash_kernel.install\n",
    "```\n",
    "\n",
    "Now we can run\n",
    "\n",
    "```sh\n",
    "jupyter notebook\n",
    "```\n",
    "\n",
    "The next cell in this notebook runs a bash command interactively and stores its output within the notebook."
   ]
  },
  {
   "cell_type": "code",
   "execution_count": 1,
   "id": "c7c04ce2",
   "metadata": {},
   "outputs": [
    {
     "name": "stdout",
     "output_type": "stream",
     "text": [
      "\u001b[0;0mShell notebooks.ipynb\u001b[m\n"
     ]
    }
   ],
   "source": [
    "ls"
   ]
  }
 ],
 "metadata": {
  "kernelspec": {
   "display_name": "Bash",
   "language": "bash",
   "name": "bash"
  },
  "language_info": {
   "codemirror_mode": "shell",
   "file_extension": ".sh",
   "mimetype": "text/x-sh",
   "name": "bash"
  }
 },
 "nbformat": 4,
 "nbformat_minor": 5
}

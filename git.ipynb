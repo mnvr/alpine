{
 "cells": [
  {
   "cell_type": "markdown",
   "id": "33f85bfd",
   "metadata": {},
   "source": [
    "# git"
   ]
  },
  {
   "cell_type": "markdown",
   "id": "ccc5cd41",
   "metadata": {},
   "source": [
    "## Setup\n",
    "\n",
    "```sh\n",
    "doas apk add git\n",
    "git config --global user.name Name\n",
    "git config --global user.email name@example.org\n",
    "```"
   ]
  },
  {
   "cell_type": "markdown",
   "id": "f2bf4e1e",
   "metadata": {},
   "source": [
    "## PAT\n",
    "\n",
    "To store the PAT, we'll use `git-credential`.\n",
    "\n",
    "> ### git-credential\n",
    ">\n",
    "> git's [credential system](https://git-scm.com/book/en/v2/Git-Tools-Credential-Storage) allows delegating to another program (the \"helper\") to obtain credentials.\n",
    ">\n",
    "> [List](https://git-scm.com/doc/credential-helpers) of available credential helpers.\n",
    "\n",
    "By default, git comes with two credential helpers: `git-credential-store` and `git-credential-cache`. We use `git-credential-store`. This will store our credential in a **plaintext file** at `~/.git-credentials`.\n",
    "\n",
    "Storing it is plaintext is not ideal but before freaking out, remember that that's the same level of security as your ssh key (now you can freak out for the _real_ reason, that both your git credentials _and_ SSH keys are plaintext).\n",
    "\n",
    "> There is a reasonably trivial way to use a better credential helper, `git-credential-libsecret`. That comes with a GNOME baggage though...\n",
    ">\n",
    "> Which leaves me wondering - it should be possible to make a simple credential store that use KEKs.\n",
    "\n",
    "```sh\n",
    "git config --global credential.helper store\n",
    "```\n",
    "\n",
    "Create the [PAT](https://github.com/settings/personal-access-tokens/new), and [perform any operation](https://docs.github.com/en/authentication/keeping-your-account-and-data-secure/managing-your-personal-access-tokens#using-a-personal-access-token-on-the-command-line) that requires authentication so that git asks for credentials and uses libsecret to store them."
   ]
  },
  {
   "cell_type": "markdown",
   "id": "6588b7fa",
   "metadata": {},
   "source": [
    "### PAT using libsecret\n",
    "\n",
    "To store the PAT using libsecret, we can use `git-credential-libsecret` (a `libsecret` implementation of `git credential`).\n",
    "\n",
    "> ### libsecret\n",
    ">\n",
    "> [libsecret](https://wiki.gnome.org/Projects/Libsecret) is a library for storing and retrieving passwords and other secrets. It communicates with the \"Secret Service\" using D-Bus.\n",
    "\n",
    "```sh\n",
    "doas apk add git-credential-libsecret\n",
    "```"
   ]
  },
  {
   "cell_type": "code",
   "execution_count": 1,
   "id": "6e5cee84",
   "metadata": {},
   "outputs": [
    {
     "name": "stdout",
     "output_type": "stream",
     "text": [
      "git-credential-libsecret-2.47.2-r0 contains:\n",
      "usr/libexec/git-core/git-credential-libsecret\n",
      "\n"
     ]
    }
   ],
   "source": [
    "doas apk info git-credential-libsecret --contents"
   ]
  },
  {
   "cell_type": "markdown",
   "id": "978b79f6",
   "metadata": {},
   "source": [
    "```sh\n",
    "git config --global credential.helper /usr/libexec/git-core/git-credential-libsecret\n",
    "```\n",
    "\n",
    "### Resetting credentials\n",
    "\n",
    "```sh\n",
    "echo \"url=https://github.com\" | git credential reject\n",
    "```\n",
    "\n",
    "The next time you try to push, it'll ask for the new PAT."
   ]
  },
  {
   "cell_type": "markdown",
   "id": "5a77ad3f",
   "metadata": {},
   "source": [
    "## Setup commit signing\n",
    "\n",
    "Create a SSH key if needed (`ssh-keygen`), ask to git to use it to sign commits.\n",
    "```sh\n",
    "doas apk add openssh-keygen\n",
    "git config --global user.signingkey ~/.ssh/id_ed25519.pub\n",
    "git config --global commit.gpgsign true\n",
    "git config --global gpg.format ssh\n",
    "```\n",
    "\n",
    "Also tell GitHub that we're using it as a [signing key](https://github.com/settings/keys)."
   ]
  }
 ],
 "metadata": {
  "kernelspec": {
   "display_name": "Bash",
   "language": "bash",
   "name": "bash"
  },
  "language_info": {
   "codemirror_mode": "shell",
   "file_extension": ".sh",
   "mimetype": "text/x-sh",
   "name": "bash"
  }
 },
 "nbformat": 4,
 "nbformat_minor": 5
}
